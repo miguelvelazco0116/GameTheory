{
 "cells": [
  {
   "cell_type": "markdown",
   "metadata": {},
   "source": [
    "# Game theory\n",
    "- Game theory attempts to take into consideration the interactions between the participants and their behavior to study the strategic decision-making between rational individuals. It tries to find out the actions that a “player” should perform which would maximize his chances of success mathematically and logically. "
   ]
  },
  {
   "cell_type": "code",
   "execution_count": 1,
   "metadata": {},
   "outputs": [],
   "source": [
    "# Libraries\n",
    "\n",
    "import nashpy as nash\n",
    "import numpy as np"
   ]
  },
  {
   "cell_type": "code",
   "execution_count": 2,
   "metadata": {},
   "outputs": [],
   "source": [
    "\n",
    "A = np.array([[19.51,19.51], [19.31,19.31]]) #bp\n",
    "B = np.array([[19.49,19.49], [19.29, 19.29]]) #ferche"
   ]
  },
  {
   "cell_type": "code",
   "execution_count": 3,
   "metadata": {},
   "outputs": [],
   "source": [
    "prisoners_dilemma = nash.Game(A, B)"
   ]
  },
  {
   "cell_type": "code",
   "execution_count": 4,
   "metadata": {},
   "outputs": [
    {
     "data": {
      "text/plain": [
       "Bi matrix game with payoff matrices:\n",
       "\n",
       "Row player:\n",
       "[[19.51 19.51]\n",
       " [19.31 19.31]]\n",
       "\n",
       "Column player:\n",
       "[[19.49 19.49]\n",
       " [19.29 19.29]]"
      ]
     },
     "execution_count": 4,
     "metadata": {},
     "output_type": "execute_result"
    }
   ],
   "source": [
    "prisoners_dilemma"
   ]
  },
  {
   "cell_type": "code",
   "execution_count": 5,
   "metadata": {},
   "outputs": [
    {
     "name": "stdout",
     "output_type": "stream",
     "text": [
      "[19.51 19.49]\n"
     ]
    }
   ],
   "source": [
    "sigma_r = np.array([1, 0])\n",
    "sigma_c = np.array([1, 0])\n",
    "print(prisoners_dilemma[sigma_r, sigma_c])"
   ]
  },
  {
   "cell_type": "code",
   "execution_count": 6,
   "metadata": {},
   "outputs": [
    {
     "name": "stdout",
     "output_type": "stream",
     "text": [
      "[19.3481 19.3281]\n"
     ]
    }
   ],
   "source": [
    "# The utility to both players when they play uniformly randomly across both their strategies:\n",
    "\n",
    "sigma_r = np.array([0.1905, 0.8095])\n",
    "sigma_c = np.array([0.1825, 0.8175])\n",
    "print(prisoners_dilemma[sigma_r, sigma_c])"
   ]
  },
  {
   "cell_type": "code",
   "execution_count": null,
   "metadata": {},
   "outputs": [],
   "source": []
  }
 ],
 "metadata": {
  "kernelspec": {
   "display_name": "Python 3",
   "language": "python",
   "name": "python3"
  },
  "language_info": {
   "codemirror_mode": {
    "name": "ipython",
    "version": 3
   },
   "file_extension": ".py",
   "mimetype": "text/x-python",
   "name": "python",
   "nbconvert_exporter": "python",
   "pygments_lexer": "ipython3",
   "version": "3.6.8"
  }
 },
 "nbformat": 4,
 "nbformat_minor": 2
}
